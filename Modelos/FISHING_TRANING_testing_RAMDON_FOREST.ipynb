{
  "nbformat": 4,
  "nbformat_minor": 0,
  "metadata": {
    "colab": {
      "provenance": []
    },
    "kernelspec": {
      "name": "python3",
      "display_name": "Python 3"
    },
    "language_info": {
      "name": "python"
    }
  },
  "cells": [
    {
      "cell_type": "code",
      "source": [
        "import pandas as pd\n",
        "import numpy as np\n",
        "import matplotlib.pyplot as plt\n",
        "# Cargar los datos de phishing y no phishing\n",
        "phishing_df = pd.read_excel('FISHING.xlsx')\n",
        "non_phishing_df = pd.read_excel('NOFISHING.xlsx')\n",
        "\n",
        "# Agregar una columna de etiqueta en ambos DataFrames\n",
        "phishing_df['label'] = 1  # 1 indica phishing\n",
        "non_phishing_df['label'] = 0  # 0 indica no phishing\n",
        "\n",
        "# Combinar ambos DataFrames en uno solo\n",
        "data = pd.concat([phishing_df, non_phishing_df], ignore_index=True)\n",
        "\n",
        "# Guardar el DataFrame combinado en un nuevo archivo CSV\n",
        "data.to_csv('combined_phishing_data.csv', index=False)  # 'index=False' evita que se guarde el índice"
      ],
      "metadata": {
        "id": "G4p2IQzxWSGL"
      },
      "execution_count": null,
      "outputs": []
    },
    {
      "source": [
        "import pandas as pd\n",
        "from sklearn.model_selection import train_test_split\n",
        "from sklearn.ensemble import RandomForestClassifier\n",
        "from sklearn.metrics import classification_report, confusion_matrix, accuracy_score\n",
        "import joblib\n",
        "from sklearn.feature_extraction.text import TfidfVectorizer # Import TfidfVectorizer\n",
        "\n",
        "\n",
        "# Cargar los datos combinados desde el archivo CSV\n",
        "data = pd.read_csv('combined_phishing_data.csv')\n",
        "\n",
        "# Revisar si hay valores nulos\n",
        "print(\"Valores nulos:\\n\", data.isnull().sum())\n",
        "\n",
        "# Rellenar valores nulos (si los hay) o eliminar filas\n",
        "data.fillna(0, inplace=True)\n",
        "\n",
        "# Separar las características (X) y las etiquetas (y)\n",
        "X = data['url']  # Use the 'url' column as feature\n",
        "y = data['label']  # Columna 'label'\n",
        "\n",
        "# Create a TfidfVectorizer to convert URLs into numerical features\n",
        "vectorizer = TfidfVectorizer()\n",
        "X = vectorizer.fit_transform(X) # Fit and transform the 'url' column\n",
        "\n",
        "\n",
        "# Dividir los datos en conjunto de entrenamiento y prueba\n",
        "X_train, X_test, y_train, y_test = train_test_split(X, y, test_size=0.3, random_state=42)\n",
        "\n",
        "# Crear y entrenar el modelo de Bosque Aleatorio\n",
        "rf_model = RandomForestClassifier(n_estimators=100, random_state=42)\n",
        "rf_model.fit(X_train, y_train)\n",
        "\n",
        "# Realizar predicciones en el conjunto de prueba\n",
        "y_pred = rf_model.predict(X_test)\n",
        "\n",
        "# Evaluar el modelo\n",
        "print(\"Confusion Matrix:\\n\", confusion_matrix(y_test, y_pred))\n",
        "print(\"\\nClassification Report:\\n\", classification_report(y_test, y_pred))\n",
        "print(\"\\nAccuracy:\", accuracy_score(y_test, y_pred))\n",
        "\n",
        "# Guardar el modelo entrenado para uso futuro\n",
        "joblib.dump(rf_model, 'random_forest_phishing_model.pkl')\n",
        "print(\"Modelo guardado como 'random_forest_phishing_model.pkl'.\")"
      ],
      "cell_type": "code",
      "metadata": {
        "colab": {
          "base_uri": "https://localhost:8080/"
        },
        "id": "R-mbs7CjYpwb",
        "outputId": "2fdc3b79-d95d-4baa-a1a3-f45c88c48182"
      },
      "execution_count": null,
      "outputs": [
        {
          "output_type": "stream",
          "name": "stdout",
          "text": [
            "Valores nulos:\n",
            " url      0\n",
            "label    0\n",
            "dtype: int64\n",
            "Confusion Matrix:\n",
            " [[10588    19]\n",
            " [   17 18128]]\n",
            "\n",
            "Classification Report:\n",
            "               precision    recall  f1-score   support\n",
            "\n",
            "           0       1.00      1.00      1.00     10607\n",
            "           1       1.00      1.00      1.00     18145\n",
            "\n",
            "    accuracy                           1.00     28752\n",
            "   macro avg       1.00      1.00      1.00     28752\n",
            "weighted avg       1.00      1.00      1.00     28752\n",
            "\n",
            "\n",
            "Accuracy: 0.9987479131886478\n",
            "Modelo guardado como 'random_forest_phishing_model.pkl'.\n"
          ]
        }
      ]
    },
    {
      "cell_type": "code",
      "source": [
        "from sklearn.metrics import accuracy_score\n",
        "\n",
        "# Calcular la exactitud\n",
        "accuracy = accuracy_score(y_test, y_pred)\n",
        "\n",
        "# Mostrar la exactitud en porcentaje\n",
        "print(f\"\\nExactitud del modelo: {accuracy * 100:.2f}%\")\n"
      ],
      "metadata": {
        "colab": {
          "base_uri": "https://localhost:8080/"
        },
        "id": "IWA01psnaPyp",
        "outputId": "bc6a1432-79e1-46a3-c086-e63b4a8bfc6e"
      },
      "execution_count": null,
      "outputs": [
        {
          "output_type": "stream",
          "name": "stdout",
          "text": [
            "\n",
            "Exactitud del modelo: 99.87%\n"
          ]
        }
      ]
    },
    {
      "cell_type": "code",
      "source": [
        "import pandas as pd\n",
        "import joblib\n",
        "from sklearn.feature_extraction.text import TfidfVectorizer\n",
        "from sklearn.metrics import classification_report, confusion_matrix, accuracy_score\n",
        "\n",
        "# Cargar el modelo entrenado\n",
        "model_file = 'random_forest_phishing_model.pkl'\n",
        "rf_model = joblib.load(model_file)\n",
        "print(\"Modelo cargado correctamente.\")\n",
        "\n",
        "# Cargar el vectorizador utilizado durante el entrenamiento\n",
        "vectorizer = TfidfVectorizer()\n",
        "# Asegúrate de ajustar el vectorizador a los datos de entrenamiento originales\n",
        "training_data = pd.read_csv('combined_phishing_data.csv')\n",
        "vectorizer.fit(training_data['url'])\n",
        "\n",
        "# Cargar los nuevos datos para pruebas\n",
        "test_data_file = 'TESTING.xlsx'  # Cambia por la ruta de tu archivo\n",
        "test_data = pd.read_excel(test_data_file)\n",
        "\n",
        "# Verificar valores nulos\n",
        "print(\"Valores nulos en los datos de prueba:\\n\", test_data.isnull().sum())\n",
        "test_data.fillna('', inplace=True)  # Rellenar valores nulos con cadenas vacías\n",
        "\n",
        "# Separar características (X) y etiquetas (y) en los datos de prueba\n",
        "X_test = vectorizer.transform(test_data['url'])  # Convertir URLs a características numéricas\n",
        "y_test = test_data['label']\n",
        "\n",
        "# Realizar predicciones\n",
        "y_pred = rf_model.predict(X_test)\n",
        "\n",
        "\n",
        "print(\"\\nConfusion Matrix:\\n\", confusion_matrix(y_test, y_pred))\n",
        "print(\"\\nClassification Report:\\n\", classification_report(y_test, y_pred))\n",
        "print(\"\\nAccuracy:\", accuracy_score(y_test, y_pred))\n",
        "\n",
        "\n",
        "test_data['predicted_label'] = y_pred\n",
        "test_data.to_csv('testing_results.csv', index=False)\n",
        "print(\"Resultados guardados en 'testing_results.csv'.\")\n"
      ],
      "metadata": {
        "colab": {
          "base_uri": "https://localhost:8080/"
        },
        "id": "gF2urZU7gz9s",
        "outputId": "25721282-9378-4633-a4d2-0cfa5ae4c6de"
      },
      "execution_count": null,
      "outputs": [
        {
          "output_type": "stream",
          "name": "stdout",
          "text": [
            "Modelo cargado correctamente.\n",
            "Valores nulos en los datos de prueba:\n",
            " url      0\n",
            "label    0\n",
            "dtype: int64\n",
            "\n",
            "Confusion Matrix:\n",
            " [[ 149 1739]\n",
            " [  14 1786]]\n",
            "\n",
            "Classification Report:\n",
            "               precision    recall  f1-score   support\n",
            "\n",
            "           0       0.91      0.08      0.15      1888\n",
            "           1       0.51      0.99      0.67      1800\n",
            "\n",
            "    accuracy                           0.52      3688\n",
            "   macro avg       0.71      0.54      0.41      3688\n",
            "weighted avg       0.72      0.52      0.40      3688\n",
            "\n",
            "\n",
            "Accuracy: 0.5246746203904555\n",
            "Resultados guardados en 'testing_results.csv'.\n"
          ]
        }
      ]
    }
  ]
}